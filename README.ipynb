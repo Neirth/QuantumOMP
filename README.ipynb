{
  "cells": [
    {
      "cell_type": "markdown",
      "metadata": {
        "id": "QHIt_EnF9Bgh"
      },
      "source": [
        "# Introducción a OpenMP y Benchmarking de código paralelo"
      ]
    },
    {
      "cell_type": "markdown",
      "metadata": {
        "id": "HALN4sF49Bgm"
      },
      "source": [
        "## Instalación de Dependencias"
      ]
    },
    {
      "cell_type": "markdown",
      "metadata": {
        "id": "ASYdz4A-9Bgn"
      },
      "source": [
        "Vamos a instalar dos SDKs, el compilador Intel OneAPI y el NVHPC Toolkit, en un entorno de Google Colab que utiliza Jupyter Notebook y Debian como sistema base. Aquí está el resumen de los pasos que seguiremos:"
      ]
    },
    {
      "cell_type": "markdown",
      "metadata": {
        "id": "DVQqdHx09Bgo"
      },
      "source": [
        "### Instalación del SDK de NVHPC"
      ]
    },
    {
      "cell_type": "code",
      "execution_count": null,
      "metadata": {
        "vscode": {
          "languageId": "shellscript"
        },
        "colab": {
          "base_uri": "https://localhost:8080/"
        },
        "id": "M4edGKe59Bgq",
        "outputId": "c8f53476-e7eb-437c-fcf9-adceac625865"
      },
      "outputs": [
        {
          "output_type": "stream",
          "name": "stdout",
          "text": [
            "  % Total    % Received % Xferd  Average Speed   Time    Time     Time  Current\n",
            "                                 Dload  Upload   Total   Spent    Left  Speed\n",
            "100  1626  100  1626    0     0   8594      0 --:--:-- --:--:-- --:--:--  8603\n",
            "deb [signed-by=/usr/share/keyrings/nvidia-hpcsdk-archive-keyring.gpg] https://developer.download.nvidia.com/hpc-sdk/ubuntu/amd64 /\n",
            "Get:1 https://cloud.r-project.org/bin/linux/ubuntu jammy-cran40/ InRelease [3,626 B]\n",
            "Hit:2 https://developer.download.nvidia.com/compute/cuda/repos/ubuntu2204/x86_64  InRelease\n",
            "Get:3 https://developer.download.nvidia.com/hpc-sdk/ubuntu/amd64  InRelease [2,126 B]\n",
            "Hit:4 http://archive.ubuntu.com/ubuntu jammy InRelease\n",
            "Get:5 http://archive.ubuntu.com/ubuntu jammy-updates InRelease [119 kB]\n",
            "Get:6 http://security.ubuntu.com/ubuntu jammy-security InRelease [110 kB]\n",
            "Get:7 https://developer.download.nvidia.com/hpc-sdk/ubuntu/amd64  Packages [20.3 kB]\n",
            "Hit:8 https://ppa.launchpadcontent.net/c2d4u.team/c2d4u4.0+/ubuntu jammy InRelease\n",
            "Hit:9 https://ppa.launchpadcontent.net/deadsnakes/ppa/ubuntu jammy InRelease\n",
            "Get:10 http://security.ubuntu.com/ubuntu jammy-security/main amd64 Packages [1,326 kB]\n",
            "Hit:11 http://archive.ubuntu.com/ubuntu jammy-backports InRelease\n",
            "Hit:12 https://ppa.launchpadcontent.net/graphics-drivers/ppa/ubuntu jammy InRelease\n",
            "Hit:13 https://ppa.launchpadcontent.net/ubuntugis/ppa/ubuntu jammy InRelease\n",
            "Get:14 http://archive.ubuntu.com/ubuntu jammy-updates/universe amd64 Packages [1,305 kB]\n",
            "Get:15 http://security.ubuntu.com/ubuntu jammy-security/universe amd64 Packages [1,046 kB]\n",
            "Get:16 http://archive.ubuntu.com/ubuntu jammy-updates/main amd64 Packages [1,599 kB]\n",
            "Fetched 5,531 kB in 2s (2,504 kB/s)\n",
            "Reading package lists... Done\n",
            "Reading package lists... Done\n",
            "Building dependency tree... Done\n",
            "Reading state information... Done\n",
            "The following additional packages will be installed:\n",
            "  libncursesw5 libtinfo5\n",
            "The following NEW packages will be installed:\n",
            "  libncursesw5 libtinfo5 nvhpc-23-11\n",
            "0 upgraded, 3 newly installed, 0 to remove and 27 not upgraded.\n",
            "Need to get 3,356 MB of archives.\n",
            "After this operation, 12.1 GB of additional disk space will be used.\n",
            "Get:1 https://developer.download.nvidia.com/hpc-sdk/ubuntu/amd64  nvhpc-23-11 23.11 [3,356 MB]\n",
            "Get:2 http://archive.ubuntu.com/ubuntu jammy-updates/universe amd64 libtinfo5 amd64 6.3-2ubuntu0.1 [100 kB]\n",
            "Get:3 http://archive.ubuntu.com/ubuntu jammy-updates/universe amd64 libncursesw5 amd64 6.3-2ubuntu0.1 [134 kB]\n",
            "Fetched 3,356 MB in 41s (82.7 MB/s)\n",
            "debconf: unable to initialize frontend: Dialog\n",
            "debconf: (No usable dialog-like program is installed, so the dialog based frontend cannot be used. at /usr/share/perl5/Debconf/FrontEnd/Dialog.pm line 78, <> line 3.)\n",
            "debconf: falling back to frontend: Readline\n",
            "debconf: unable to initialize frontend: Readline\n",
            "debconf: (This frontend requires a controlling tty.)\n",
            "debconf: falling back to frontend: Teletype\n",
            "dpkg-preconfigure: unable to re-open stdin: \n",
            "Selecting previously unselected package libtinfo5:amd64.\n",
            "(Reading database ... 121658 files and directories currently installed.)\n",
            "Preparing to unpack .../libtinfo5_6.3-2ubuntu0.1_amd64.deb ...\n",
            "Unpacking libtinfo5:amd64 (6.3-2ubuntu0.1) ...\n",
            "Selecting previously unselected package libncursesw5:amd64.\n",
            "Preparing to unpack .../libncursesw5_6.3-2ubuntu0.1_amd64.deb ...\n",
            "Unpacking libncursesw5:amd64 (6.3-2ubuntu0.1) ...\n",
            "Selecting previously unselected package nvhpc-23-11.\n",
            "Preparing to unpack .../nvhpc-23-11_23.11_amd64.deb ...\n",
            "Unpacking nvhpc-23-11 (23.11) ...\n"
          ]
        }
      ],
      "source": [
        "!curl https://developer.download.nvidia.com/hpc-sdk/ubuntu/DEB-GPG-KEY-NVIDIA-HPC-SDK | sudo gpg --dearmor -o /usr/share/keyrings/nvidia-hpcsdk-archive-keyring.gpg\n",
        "!echo 'deb [signed-by=/usr/share/keyrings/nvidia-hpcsdk-archive-keyring.gpg] https://developer.download.nvidia.com/hpc-sdk/ubuntu/amd64 /' | sudo tee /etc/apt/sources.list.d/nvhpc.list\n",
        "!sudo apt-get update -y\n",
        "!sudo apt-get install -y nvhpc-23-11"
      ]
    },
    {
      "cell_type": "markdown",
      "metadata": {
        "id": "oOw6DqXU9Bgt"
      },
      "source": [
        "### Instalación del SDK de Intel OneAPI"
      ]
    },
    {
      "cell_type": "code",
      "execution_count": null,
      "metadata": {
        "vscode": {
          "languageId": "shellscript"
        },
        "id": "ToiwNWtW9Bgt"
      },
      "outputs": [],
      "source": [
        "!wget -O- https://apt.repos.intel.com/intel-gpg-keys/GPG-PUB-KEY-INTEL-SW-PRODUCTS.PUB | gpg --dearmor | sudo tee /usr/share/keyrings/oneapi-archive-keyring.gpg > /dev/null\n",
        "!echo \"deb [signed-by=/usr/share/keyrings/oneapi-archive-keyring.gpg] https://apt.repos.intel.com/oneapi all main\" | sudo tee /etc/apt/sources.list.d/oneAPI.list\n",
        "\n",
        "!sudo apt-get update -y\n",
        "!sudo apt-get install -y intel-hpckit"
      ]
    },
    {
      "cell_type": "markdown",
      "metadata": {
        "id": "0aOhDAGJ9Bgu"
      },
      "source": [
        "### Instalación del SDK de desarrollo de Ubuntu"
      ]
    },
    {
      "cell_type": "code",
      "execution_count": null,
      "metadata": {
        "vscode": {
          "languageId": "shellscript"
        },
        "id": "SOMwii889Bgv"
      },
      "outputs": [],
      "source": [
        "!sudo apt-get install -y build-essential make gcc git lshw"
      ]
    },
    {
      "cell_type": "markdown",
      "source": [
        "### Inicialización de los SDK's"
      ],
      "metadata": {
        "id": "JC4a9n-cBY5i"
      }
    },
    {
      "cell_type": "code",
      "source": [
        "!export LD_LIBRARY_PATH=\"$LD_LIBRARY_PATH:/usr/local/nvidia/cuda/lib64:/usr/local/nvidia/cudnn/lib:/opt/intel/oneapi/compiler/2023.2.3/linux/compiler/lib:/opt/intel/oneapi/compiler/2023.2.3/linux/compiler/lib/intel64\"\n",
        "!export PATH=\"$PATH:/opt/intel/oneapi/compiler/latest/linux/bin:/opt/nvidia/hpc_sdk/Linux_x86_64/22.11/compilers/bin:/usr/lib/opt/intel/oneapi/dev-utilities/2021.10.0/bin:/usr/lib/opt/intel/oneapi/debugger/2023.2.0/gdb/intel64/bin:/usr/lib/opt/intel/oneapi/compiler/2023.2.3/linux/lib/oclfpga/bin:/usr/lib/opt/intel/oneapi/compiler/2023.2.3/linux/bin/intel64:/usr/lib/opt/intel/oneapi/compiler/2023.2.3/linux/bin:/opt/intel/oneapi/compiler/latest/linux/bin:/opt/nvidia/hpc_sdk/Linux_x86_64/22.11/compilers/bin:/usr/local/nvidia/cuda/bin\"\n",
        "!sudo /opt/nvidia/hpc_sdk/Linux_x86_64/23.11/compilers/bin/makelocalrc -x\n",
        "!. /opt/intel/oneapi/setvars.sh"
      ],
      "metadata": {
        "id": "ARX4KS4nBdXa"
      },
      "execution_count": null,
      "outputs": []
    },
    {
      "cell_type": "markdown",
      "metadata": {
        "id": "dF9b7-oj9Bgw"
      },
      "source": [
        "### Clonado del repositorio y compilación de los ejemplos"
      ]
    },
    {
      "cell_type": "code",
      "execution_count": null,
      "metadata": {
        "vscode": {
          "languageId": "shellscript"
        },
        "id": "UcYXF0KT9Bgw"
      },
      "outputs": [],
      "source": [
        "!rm -rf ./QuantumOMP || echo \"Cloning again\"\n",
        "!git clone https://github.com/Neirth/QuantumOMP.git\n",
        "\n",
        "!cd QuantumOMP && make all && cd build && ./compute_algorithms && cd .."
      ]
    },
    {
      "cell_type": "markdown",
      "metadata": {
        "id": "X_VP2zDG9Bgx"
      },
      "source": [
        "## Ejecución de los benchmarks"
      ]
    },
    {
      "cell_type": "markdown",
      "metadata": {
        "id": "JyX1g2kv9Bgy"
      },
      "source": [
        "## Imprimiendo información del sistema"
      ]
    },
    {
      "cell_type": "code",
      "execution_count": null,
      "metadata": {
        "vscode": {
          "languageId": "shellscript"
        },
        "id": "4HpWjTfv9Bgy"
      },
      "outputs": [],
      "source": [
        "!sudo lshw"
      ]
    }
  ],
  "metadata": {
    "language_info": {
      "name": "python"
    },
    "colab": {
      "provenance": [],
      "gpuType": "T4"
    },
    "accelerator": "GPU",
    "kernelspec": {
      "name": "python3",
      "display_name": "Python 3"
    }
  },
  "nbformat": 4,
  "nbformat_minor": 0
}